{
 "cells": [
  {
   "cell_type": "markdown",
   "metadata": {},
   "source": [
    "# Design Pattern"
   ]
  },
  {
   "cell_type": "markdown",
   "metadata": {},
   "source": [
    "## What is Design Pattern?"
   ]
  },
  {
   "cell_type": "markdown",
   "metadata": {},
   "source": [
    "디자인 패턴은 많은 분들께서 정의하시는 말에 따르자면 \n",
    "\n",
    "```객체지향 프로그래밍에서 특정 문제 상황을 쉽게 해결할 수 있는 패턴```\n",
    "\n",
    "이라고 한다.\n",
    "\n",
    "패턴 자체는 엄청나게 많다는데 일단 개인 사용용으로 몇가지 코드와 함께 정리해 두려 한다. \n",
    "\n",
    "이거 안쓰는데도 많고 쓰는데도 많은데... 알아두어서 나쁠것은 없다."
   ]
  },
  {
   "cell_type": "markdown",
   "metadata": {},
   "source": [
    "## 1. Singleton"
   ]
  },
  {
   "cell_type": "markdown",
   "metadata": {},
   "source": [
    "Singleton패턴은 단 하나의 인스턴스를 생성해 사용하는 디자인 패턴이다.\n",
    "\n",
    "그러니까 클래스의 인스턴스를 딱 하나만 만든다는 것이다.\n",
    "\n",
    "왜 그러느냐? 굳이 또 만들 필요가 없는 애들이 있으면 자원 낭비가 있을 수 있다.\n",
    "\n",
    "어차피 단일한 거 계속 또 쓸거면 굳이 새로 만들지 말고 기존거 계속 쓰자는 것이 본 패턴의 목적이다.\n",
    "\n",
    "예시를 들어보면 아래와 같다.\n",
    "\n",
    "프린터 드라이버의 예를 들어보자.(출처: https://coding-start.tistory.com/203)\n",
    "\n",
    "---------------------\n",
    "\n",
    "여러 컴퓨터에서 프린터 한 대를 공유하는 경우, 한 대의 컴퓨터에서 프린트하고 있을 때 \n",
    "\n",
    "다른 컴퓨터가 프린트 명령을 내려도 현재 프린트하는 작업을 마치고 그다음 프린트를 해야지 두 작업이 섞여 나오면 문제가 될 것이다. \n",
    "\n",
    "즉 여러 클라이언트(컴퓨터)가 동일 객체(공유 프린터)를 사용하지만 한 개의 객체(프린트 명령을 받은 출력물)가 \n",
    "\n",
    "유일하도록 상위 객체가 보장하지 못한다면 singleton 패턴을 적용해야 한다. \n",
    "\n",
    "이처럼 동일한 자원이나 데이터를 처리하는 객체가 불필요하게 여러 개 만들어질 필요가 없는 경우에 주로 사용한다.\n",
    "\n",
    "---------------------\n",
    "\n",
    "Singleton의 장점은 아래와 같다.\n",
    "\n",
    "1. 자원 절약. 위에 써놨으니까 생략\n",
    "\n",
    "2. 전역 인스턴스이기 때문에 다른 인스턴스들간의 데이터 교환이 용이함.\n",
    "\n",
    "3. 만들어 놓은거 다시 가져와서 쓰는거라 2번째 부터 다시 부르는 경우 속도 빠름.\n",
    "\n",
    "---------------------\n",
    "Singleton을 생성하는 방식은 아래와 같다.\n",
    "\n",
    "1. 미리미리 생성해 두는 방식. 미리 만들어 두는것은 좋은데, 간혹 안쓰일때도 있는데도 불구하고 미리 만들어 놓는 경우가 존재.\n",
    "\n",
    "2. Lazy holding 방식. 즉 진짜 사용할 때 생성하는 방법. 1의 문제를 해결할 수 있음. 근데 잘못하면 이중객체 생성 문제가 발생할 수 있으므로 유의해야함. 주로 멀티스레드와 같은 상황에서 이런상황이 발생한다 함."
   ]
  },
  {
   "cell_type": "markdown",
   "metadata": {},
   "source": [
    "### Python Code (출처 : https://www.fun-coding.org/PL&OOP2-2.html)"
   ]
  },
  {
   "cell_type": "code",
   "execution_count": 1,
   "metadata": {},
   "outputs": [],
   "source": [
    "class Singleton(type):    # Type을 상속받음\n",
    "    __instances = {}      # 클래스의 인스턴스를 저장할 속성\n",
    "    def __call__(cls, *args, **kwargs):    # 클래스로 인스턴스를 만들 때 호출되는 메서드\n",
    "        if cls not in cls.__instances:     # 클래스로 인스턴스를 생성하지 않았는지 확인\n",
    "            cls.__instances[cls] = super().__call__(*args, **kwargs) # 생성하지 않았으면 인스턴스를 생성하여 해당 클래스 사전에 저장\n",
    "        return cls.__instances[cls]        # 클래스로 인스턴스를 생성했으면 인스턴스 반환"
   ]
  },
  {
   "cell_type": "code",
   "execution_count": 2,
   "metadata": {},
   "outputs": [],
   "source": [
    "class PrintObject(metaclass=Singleton):    # 메타클래스로 Singleton을 지정\n",
    "    def __init__(self):\n",
    "        print(\"This is called by super().__call__\")"
   ]
  },
  {
   "cell_type": "code",
   "execution_count": 3,
   "metadata": {},
   "outputs": [
    {
     "name": "stdout",
     "output_type": "stream",
     "text": [
      "This is called by super().__call__\n",
      "<__main__.PrintObject object at 0x0000013971417320>\n",
      "<__main__.PrintObject object at 0x0000013971417320>\n"
     ]
    }
   ],
   "source": [
    "object1 = PrintObject()     \n",
    "object2 = PrintObject()     \n",
    "print(object1)\n",
    "print(object2)"
   ]
  }
 ],
 "metadata": {
  "kernelspec": {
   "display_name": "Python 3",
   "language": "python",
   "name": "python3"
  },
  "language_info": {
   "codemirror_mode": {
    "name": "ipython",
    "version": 3
   },
   "file_extension": ".py",
   "mimetype": "text/x-python",
   "name": "python",
   "nbconvert_exporter": "python",
   "pygments_lexer": "ipython3",
   "version": "3.6.8"
  }
 },
 "nbformat": 4,
 "nbformat_minor": 2
}
